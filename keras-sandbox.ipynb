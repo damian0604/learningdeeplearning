{
 "cells": [
  {
   "cell_type": "markdown",
   "metadata": {},
   "source": [
    "# Learning Deep Learning\n",
    "First try to use Keras\n",
    "Based on\n",
    "\n",
    "https://nlpforhackers.io/keras-intro"
   ]
  },
  {
   "cell_type": "code",
   "execution_count": 19,
   "metadata": {},
   "outputs": [],
   "source": [
    "import pickle\n",
    "import numpy as np\n",
    "import spacy\n",
    "from keras.models import Sequential\n",
    "from keras.layers import Dense, Conv1D, MaxPooling1D, Flatten, Embedding, LSTM\n",
    "from keras.layers import Dense\n",
    "from keras.utils import np_utils\n",
    "from sklearn.model_selection import train_test_split\n",
    "from sklearn.feature_extraction.text import CountVectorizer\n",
    "from sklearn.preprocessing import LabelEncoder\n",
    "from keras.preprocessing.sequence import pad_sequences\n"
   ]
  },
  {
   "cell_type": "code",
   "execution_count": 20,
   "metadata": {},
   "outputs": [],
   "source": [
    "VALIDATION_SIZE = 500\n",
    "np.random.seed(666)"
   ]
  },
  {
   "cell_type": "code",
   "execution_count": 21,
   "metadata": {},
   "outputs": [],
   "source": [
    "\n",
    "def encodeY(Y):\n",
    "    '''create one-hot (dummies) for output, see also https://machinelearningmastery.com/multi-class-classification-tutorial-keras-deep-learning-library/\n",
    "    encode class values as integers\n",
    "    '''\n",
    "    encoder = LabelEncoder()\n",
    "    encoder.fit(Y)\n",
    "    encoded_Y = encoder.transform(Y)\n",
    "    dummy_y = np_utils.to_categorical(encoded_Y)\n",
    "    return dummy_y"
   ]
  },
  {
   "cell_type": "code",
   "execution_count": 22,
   "metadata": {},
   "outputs": [
    {
     "name": "stdout",
     "output_type": "stream",
     "text": [
      "True     11124\n",
      "False     1435\n",
      "Name: v9_major, dtype: int64\n"
     ]
    }
   ],
   "source": [
    "df = pickle.load(open('newsdataset/news_dataset_annotated.pkl', mode ='rb'))\n",
    "# remove missing values\n",
    "print(df['v9_major'].map(str.isdigit).value_counts())\n",
    "df = df[df['v9_major'].map(str.isdigit)]\n",
    "# remove niche categories\n",
    "df = df[df['v9_major'].map(df.v9_major.value_counts()>150)]\n",
    "\n",
    "X_train, X_test, y_train, y_test = train_test_split(df['text'], encodeY(df['v9_major'].map(int)), test_size = 0.2)\n",
    "del df"
   ]
  },
  {
   "cell_type": "code",
   "execution_count": 23,
   "metadata": {},
   "outputs": [],
   "source": [
    "vectorizer = CountVectorizer(min_df=5, max_df=.9)\n",
    "X_train_onehot = vectorizer.fit_transform(X_train)"
   ]
  },
  {
   "cell_type": "code",
   "execution_count": 24,
   "metadata": {},
   "outputs": [
    {
     "data": {
      "text/plain": [
       "19"
      ]
     },
     "execution_count": 24,
     "metadata": {},
     "output_type": "execute_result"
    }
   ],
   "source": [
    "# dit zou werken als y_train nog steeds een pandas-series was\n",
    "# numberoflabels = len(y_train.unique())\n",
    "# maar dat is het dankzij onze encodeY-functie niet meer.\n",
    "# vandaar even een hele lelijke hack:\n",
    "numberoflabels = len(set((str(e) for e in y_train.tolist())))\n",
    "numberoflabels"
   ]
  },
  {
   "cell_type": "code",
   "execution_count": 25,
   "metadata": {},
   "outputs": [],
   "source": [
    "model = Sequential()\n",
    "model.add(Dense (units = 500, activation = 'relu', input_dim = len(vectorizer.get_feature_names())))\n",
    "#model.add(Dense(units = 400, activation = 'sigmoid'))\n",
    "#model.add(Dense(units = 300, activation = 'sigmoid'))\n",
    "model.add(Dense(units = 200, activation = 'sigmoid'))\n",
    "# model.add(Dense(units = 100, activation = 'sigmoid'))\n",
    "model.add(Dense(units = numberoflabels, activation = 'sigmoid'))"
   ]
  },
  {
   "cell_type": "code",
   "execution_count": 26,
   "metadata": {},
   "outputs": [
    {
     "name": "stdout",
     "output_type": "stream",
     "text": [
      "_________________________________________________________________\n",
      "Layer (type)                 Output Shape              Param #   \n",
      "=================================================================\n",
      "dense_7 (Dense)              (None, 500)               11062000  \n",
      "_________________________________________________________________\n",
      "dense_8 (Dense)              (None, 200)               100200    \n",
      "_________________________________________________________________\n",
      "dense_9 (Dense)              (None, 19)                3819      \n",
      "=================================================================\n",
      "Total params: 11,166,019\n",
      "Trainable params: 11,166,019\n",
      "Non-trainable params: 0\n",
      "_________________________________________________________________\n"
     ]
    }
   ],
   "source": [
    "model.compile(loss='categorical_crossentropy', optimizer = 'adam', metrics=['accuracy'])\n",
    "model.summary()"
   ]
  },
  {
   "cell_type": "code",
   "execution_count": 27,
   "metadata": {},
   "outputs": [
    {
     "name": "stdout",
     "output_type": "stream",
     "text": [
      "Train on 7712 samples, validate on 500 samples\n",
      "Epoch 1/3\n",
      "7712/7712 [==============================] - 30s 4ms/step - loss: 1.9146 - acc: 0.4452 - val_loss: 1.2964 - val_acc: 0.6280\n",
      "Epoch 2/3\n",
      "7712/7712 [==============================] - 30s 4ms/step - loss: 0.6350 - acc: 0.8318 - val_loss: 1.2407 - val_acc: 0.6200\n",
      "Epoch 3/3\n",
      "7712/7712 [==============================] - 30s 4ms/step - loss: 0.1760 - acc: 0.9619 - val_loss: 1.2764 - val_acc: 0.6480\n"
     ]
    },
    {
     "data": {
      "text/plain": [
       "<keras.callbacks.History at 0x7f7b392ecd68>"
      ]
     },
     "execution_count": 27,
     "metadata": {},
     "output_type": "execute_result"
    }
   ],
   "source": [
    "model.fit(X_train_onehot[:-VALIDATION_SIZE], y_train[:-VALIDATION_SIZE], \n",
    "          epochs=3, verbose=1,\n",
    "          validation_data=(X_train_onehot[-VALIDATION_SIZE:], y_train[-VALIDATION_SIZE:]))"
   ]
  },
  {
   "cell_type": "code",
   "execution_count": 28,
   "metadata": {},
   "outputs": [
    {
     "name": "stdout",
     "output_type": "stream",
     "text": [
      "2053/2053 [==============================] - 1s 454us/step\n",
      "Accuracy: 0.5996103263807134\n"
     ]
    }
   ],
   "source": [
    "scores = model.evaluate(vectorizer.transform(X_test), y_test, verbose = True)\n",
    "print(\"Accuracy: {}\".format(scores[1]))"
   ]
  },
  {
   "cell_type": "markdown",
   "metadata": {},
   "source": [
    "## Convolutional Network"
   ]
  },
  {
   "cell_type": "code",
   "execution_count": 29,
   "metadata": {},
   "outputs": [],
   "source": [
    "word2idx = {word: idx for idx, word in enumerate(vectorizer.get_feature_names())}\n",
    "tokenize = vectorizer.build_tokenizer()\n",
    "preprocess = vectorizer.build_preprocessor()\n",
    " \n",
    "def to_sequence(tokenizer, preprocessor, index, text):\n",
    "    words = tokenizer(preprocessor(text))\n",
    "    indexes = [index[word] for word in words if word in index]\n",
    "    return indexes\n",
    "\n",
    "X_train_sequences = [to_sequence(tokenize, preprocess, word2idx, x) for x in X_train] "
   ]
  },
  {
   "cell_type": "code",
   "execution_count": 30,
   "metadata": {},
   "outputs": [
    {
     "name": "stdout",
     "output_type": "stream",
     "text": [
      "MAX_SEQ_LENGHT= 3197\n",
      "[22123 22123 22123 ... 16975  7401 16977]\n"
     ]
    }
   ],
   "source": [
    "# Compute the max lenght of a text\n",
    "MAX_SEQ_LENGHT = len(max(X_train_sequences, key=len))\n",
    "print(\"MAX_SEQ_LENGHT=\", MAX_SEQ_LENGHT)\n",
    " \n",
    "N_FEATURES = len(vectorizer.get_feature_names())\n",
    "X_train_sequences = pad_sequences(X_train_sequences, maxlen=MAX_SEQ_LENGHT, value=N_FEATURES)\n",
    "print(X_train_sequences[0])\n",
    " "
   ]
  },
  {
   "cell_type": "code",
   "execution_count": 31,
   "metadata": {},
   "outputs": [
    {
     "name": "stdout",
     "output_type": "stream",
     "text": [
      "_________________________________________________________________\n",
      "Layer (type)                 Output Shape              Param #   \n",
      "=================================================================\n",
      "embedding_3 (Embedding)      (None, 3197, 64)          1415936   \n",
      "_________________________________________________________________\n",
      "conv1d_2 (Conv1D)            (None, 3193, 64)          20544     \n",
      "_________________________________________________________________\n",
      "max_pooling1d_2 (MaxPooling1 (None, 638, 64)           0         \n",
      "_________________________________________________________________\n",
      "flatten_2 (Flatten)          (None, 40832)             0         \n",
      "_________________________________________________________________\n",
      "dense_10 (Dense)             (None, 64)                2613312   \n",
      "_________________________________________________________________\n",
      "dense_11 (Dense)             (None, 19)                1235      \n",
      "=================================================================\n",
      "Total params: 4,051,027\n",
      "Trainable params: 4,051,027\n",
      "Non-trainable params: 0\n",
      "_________________________________________________________________\n",
      "None\n"
     ]
    }
   ],
   "source": [
    "model = Sequential()\n",
    "model.add(Embedding(len(vectorizer.get_feature_names()) + 1,\n",
    "                    64,  # Embedding size\n",
    "                    input_length=MAX_SEQ_LENGHT))\n",
    "model.add(Conv1D(64, 5, activation='relu'))\n",
    "model.add(MaxPooling1D(5))\n",
    "model.add(Flatten())\n",
    "model.add(Dense(units=64, activation='relu'))\n",
    "model.add(Dense(units=numberoflabels, activation='sigmoid'))\n",
    " \n",
    "model.compile(loss='categorical_crossentropy', optimizer='adam', metrics=['accuracy'])\n",
    "print(model.summary())"
   ]
  },
  {
   "cell_type": "code",
   "execution_count": 32,
   "metadata": {},
   "outputs": [
    {
     "name": "stdout",
     "output_type": "stream",
     "text": [
      "Train on 7712 samples, validate on 500 samples\n",
      "Epoch 1/3\n",
      "7712/7712 [==============================] - 77s 10ms/step - loss: 2.6940 - acc: 0.1162 - val_loss: 2.5939 - val_acc: 0.1640\n",
      "Epoch 2/3\n",
      "7712/7712 [==============================] - 73s 9ms/step - loss: 2.2788 - acc: 0.2308 - val_loss: 2.1810 - val_acc: 0.3180\n",
      "Epoch 3/3\n",
      "7712/7712 [==============================] - 80s 10ms/step - loss: 1.5129 - acc: 0.4881 - val_loss: 2.0064 - val_acc: 0.4180\n"
     ]
    },
    {
     "data": {
      "text/plain": [
       "<keras.callbacks.History at 0x7f7b40d85080>"
      ]
     },
     "execution_count": 32,
     "metadata": {},
     "output_type": "execute_result"
    }
   ],
   "source": [
    "model.fit(X_train_sequences[:-VALIDATION_SIZE], y_train[:-VALIDATION_SIZE], \n",
    "          epochs=3, verbose=True,\n",
    "          validation_data=(X_train_sequences[-VALIDATION_SIZE:], y_train[-VALIDATION_SIZE:]))\n",
    " "
   ]
  },
  {
   "cell_type": "code",
   "execution_count": 33,
   "metadata": {},
   "outputs": [],
   "source": [
    "X_test_sequences = [to_sequence(tokenize, preprocess, word2idx, x) for x in X_test]\n",
    "X_test_sequences = pad_sequences(X_test_sequences, maxlen=MAX_SEQ_LENGHT, value=N_FEATURES)"
   ]
  },
  {
   "cell_type": "code",
   "execution_count": 34,
   "metadata": {},
   "outputs": [
    {
     "name": "stdout",
     "output_type": "stream",
     "text": [
      "2053/2053 [==============================] - 7s 3ms/step\n",
      "Accuracy: 0.39746712130043954\n"
     ]
    }
   ],
   "source": [
    "scores = model.evaluate(X_test_sequences, y_test, verbose=1)\n",
    "print(\"Accuracy:\", scores[1]) \n",
    " "
   ]
  },
  {
   "cell_type": "code",
   "execution_count": null,
   "metadata": {},
   "outputs": [],
   "source": []
  },
  {
   "cell_type": "markdown",
   "metadata": {},
   "source": [
    "# LSTM"
   ]
  },
  {
   "cell_type": "code",
   "execution_count": 35,
   "metadata": {},
   "outputs": [
    {
     "name": "stdout",
     "output_type": "stream",
     "text": [
      "_________________________________________________________________\n",
      "Layer (type)                 Output Shape              Param #   \n",
      "=================================================================\n",
      "embedding_4 (Embedding)      (None, 3197, 64)          1415936   \n",
      "_________________________________________________________________\n",
      "lstm_2 (LSTM)                (None, 64)                33024     \n",
      "_________________________________________________________________\n",
      "dense_12 (Dense)             (None, 19)                1235      \n",
      "=================================================================\n",
      "Total params: 1,450,195\n",
      "Trainable params: 1,450,195\n",
      "Non-trainable params: 0\n",
      "_________________________________________________________________\n",
      "None\n"
     ]
    }
   ],
   "source": [
    "model = Sequential()\n",
    "model.add(Embedding(len(vectorizer.get_feature_names()) + 1,\n",
    "                    64,  # Embedding size\n",
    "                    input_length=MAX_SEQ_LENGHT))\n",
    "model.add(LSTM(64))\n",
    "model.add(Dense(units=numberoflabels, activation='sigmoid'))\n",
    " \n",
    "model.compile(loss='categorical_crossentropy', optimizer='adam', metrics=['accuracy'])\n",
    "print(model.summary())\n",
    " "
   ]
  },
  {
   "cell_type": "code",
   "execution_count": 36,
   "metadata": {},
   "outputs": [
    {
     "name": "stdout",
     "output_type": "stream",
     "text": [
      "Train on 7712 samples, validate on 500 samples\n",
      "Epoch 1/2\n",
      "7712/7712 [==============================] - 212s 28ms/step - loss: 2.7929 - acc: 0.1154 - val_loss: 2.7316 - val_acc: 0.0960\n",
      "Epoch 2/2\n",
      "7712/7712 [==============================] - 201s 26ms/step - loss: 2.6767 - acc: 0.1452 - val_loss: 2.6630 - val_acc: 0.1240\n"
     ]
    },
    {
     "data": {
      "text/plain": [
       "<keras.callbacks.History at 0x7f7b451edac8>"
      ]
     },
     "execution_count": 36,
     "metadata": {},
     "output_type": "execute_result"
    }
   ],
   "source": [
    "model.fit(X_train_sequences[:-VALIDATION_SIZE], y_train[:-VALIDATION_SIZE], \n",
    "          epochs=2, batch_size=128, verbose=1, \n",
    "          validation_data=(X_train_sequences[-VALIDATION_SIZE:], y_train[-VALIDATION_SIZE:]))\n",
    " "
   ]
  },
  {
   "cell_type": "code",
   "execution_count": 37,
   "metadata": {},
   "outputs": [
    {
     "name": "stdout",
     "output_type": "stream",
     "text": [
      "2053/2053 [==============================] - 22s 10ms/step\n",
      "Accuracy: 0.17096931320745307\n"
     ]
    }
   ],
   "source": [
    "scores = model.evaluate(X_test_sequences, y_test, verbose=1)\n",
    "print(\"Accuracy:\", scores[1])\n",
    " "
   ]
  },
  {
   "cell_type": "code",
   "execution_count": null,
   "metadata": {},
   "outputs": [],
   "source": []
  },
  {
   "cell_type": "markdown",
   "metadata": {},
   "source": [
    "# pretrained embeddings\n",
    "\n",
    "bla\n",
    "bla"
   ]
  },
  {
   "cell_type": "code",
   "execution_count": null,
   "metadata": {},
   "outputs": [],
   "source": []
  },
  {
   "cell_type": "code",
   "execution_count": null,
   "metadata": {},
   "outputs": [],
   "source": []
  },
  {
   "cell_type": "code",
   "execution_count": null,
   "metadata": {},
   "outputs": [],
   "source": []
  },
  {
   "cell_type": "code",
   "execution_count": null,
   "metadata": {},
   "outputs": [],
   "source": []
  }
 ],
 "metadata": {
  "kernelspec": {
   "display_name": "Python 3",
   "language": "python",
   "name": "python3"
  },
  "language_info": {
   "codemirror_mode": {
    "name": "ipython",
    "version": 3
   },
   "file_extension": ".py",
   "mimetype": "text/x-python",
   "name": "python",
   "nbconvert_exporter": "python",
   "pygments_lexer": "ipython3",
   "version": "3.6.7"
  }
 },
 "nbformat": 4,
 "nbformat_minor": 2
}
